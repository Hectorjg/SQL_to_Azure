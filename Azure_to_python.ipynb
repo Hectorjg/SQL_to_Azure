{
 "cells": [
  {
   "cell_type": "code",
   "execution_count": null,
   "id": "ce26f044",
   "metadata": {},
   "outputs": [],
   "source": [
    "## Prepare the file that i´m going rto upload to Azure"
   ]
  },
  {
   "cell_type": "code",
   "execution_count": null,
   "id": "a9fbd466",
   "metadata": {},
   "outputs": [],
   "source": [
    "#Data cleanning"
   ]
  },
  {
   "cell_type": "code",
   "execution_count": 2,
   "id": "86162d1a",
   "metadata": {},
   "outputs": [],
   "source": [
    "import pandas as pd"
   ]
  },
  {
   "cell_type": "code",
   "execution_count": 3,
   "id": "e5c48c4c",
   "metadata": {},
   "outputs": [],
   "source": [
    "ventas_videojuegos = pd.read_excel('C:/Users/ASUS/Desktop/Visualization/Proyecto_1/Ventas+Videojuegos.xlsx')"
   ]
  },
  {
   "cell_type": "code",
   "execution_count": 4,
   "id": "401ca831",
   "metadata": {},
   "outputs": [],
   "source": [
    "#Normalizing\n",
    "ventas_videojuegos.columns=ventas_videojuegos.columns.str.lower().str.replace(' ', '_')"
   ]
  },
  {
   "cell_type": "code",
   "execution_count": 6,
   "id": "d98a327b",
   "metadata": {},
   "outputs": [
    {
     "data": {
      "text/html": [
       "<div>\n",
       "<style scoped>\n",
       "    .dataframe tbody tr th:only-of-type {\n",
       "        vertical-align: middle;\n",
       "    }\n",
       "\n",
       "    .dataframe tbody tr th {\n",
       "        vertical-align: top;\n",
       "    }\n",
       "\n",
       "    .dataframe thead th {\n",
       "        text-align: right;\n",
       "    }\n",
       "</style>\n",
       "<table border=\"1\" class=\"dataframe\">\n",
       "  <thead>\n",
       "    <tr style=\"text-align: right;\">\n",
       "      <th></th>\n",
       "      <th>nombre</th>\n",
       "      <th>plataforma</th>\n",
       "      <th>año</th>\n",
       "      <th>genero</th>\n",
       "      <th>editorial</th>\n",
       "      <th>ventas_na</th>\n",
       "      <th>ventas_eu</th>\n",
       "      <th>ventas_jp</th>\n",
       "      <th>ventas_otros</th>\n",
       "      <th>ventas_global</th>\n",
       "    </tr>\n",
       "  </thead>\n",
       "  <tbody>\n",
       "    <tr>\n",
       "      <th>0</th>\n",
       "      <td>Wii Sports</td>\n",
       "      <td>Wii</td>\n",
       "      <td>2006</td>\n",
       "      <td>Sports</td>\n",
       "      <td>Nintendo</td>\n",
       "      <td>41.49</td>\n",
       "      <td>29.02</td>\n",
       "      <td>3.77</td>\n",
       "      <td>8.46</td>\n",
       "      <td>82.74</td>\n",
       "    </tr>\n",
       "    <tr>\n",
       "      <th>1</th>\n",
       "      <td>Super Mario Bros.</td>\n",
       "      <td>NES</td>\n",
       "      <td>1985</td>\n",
       "      <td>Platform</td>\n",
       "      <td>Nintendo</td>\n",
       "      <td>29.08</td>\n",
       "      <td>3.58</td>\n",
       "      <td>6.81</td>\n",
       "      <td>0.77</td>\n",
       "      <td>40.24</td>\n",
       "    </tr>\n",
       "    <tr>\n",
       "      <th>2</th>\n",
       "      <td>Mario Kart Wii</td>\n",
       "      <td>Wii</td>\n",
       "      <td>2008</td>\n",
       "      <td>Racing</td>\n",
       "      <td>Nintendo</td>\n",
       "      <td>15.85</td>\n",
       "      <td>12.88</td>\n",
       "      <td>3.79</td>\n",
       "      <td>3.31</td>\n",
       "      <td>35.82</td>\n",
       "    </tr>\n",
       "    <tr>\n",
       "      <th>3</th>\n",
       "      <td>Wii Sports Resort</td>\n",
       "      <td>Wii</td>\n",
       "      <td>2009</td>\n",
       "      <td>Sports</td>\n",
       "      <td>Nintendo</td>\n",
       "      <td>15.75</td>\n",
       "      <td>11.01</td>\n",
       "      <td>3.28</td>\n",
       "      <td>2.96</td>\n",
       "      <td>33.00</td>\n",
       "    </tr>\n",
       "    <tr>\n",
       "      <th>4</th>\n",
       "      <td>Pokemon Red/Pokemon Blue</td>\n",
       "      <td>GB</td>\n",
       "      <td>1996</td>\n",
       "      <td>Role-Playing</td>\n",
       "      <td>Nintendo</td>\n",
       "      <td>11.27</td>\n",
       "      <td>8.89</td>\n",
       "      <td>10.22</td>\n",
       "      <td>1.00</td>\n",
       "      <td>31.37</td>\n",
       "    </tr>\n",
       "  </tbody>\n",
       "</table>\n",
       "</div>"
      ],
      "text/plain": [
       "                     nombre plataforma   año        genero editorial  \\\n",
       "0                Wii Sports        Wii  2006        Sports  Nintendo   \n",
       "1         Super Mario Bros.        NES  1985      Platform  Nintendo   \n",
       "2            Mario Kart Wii        Wii  2008        Racing  Nintendo   \n",
       "3         Wii Sports Resort        Wii  2009        Sports  Nintendo   \n",
       "4  Pokemon Red/Pokemon Blue         GB  1996  Role-Playing  Nintendo   \n",
       "\n",
       "   ventas_na  ventas_eu  ventas_jp  ventas_otros  ventas_global  \n",
       "0      41.49      29.02       3.77          8.46          82.74  \n",
       "1      29.08       3.58       6.81          0.77          40.24  \n",
       "2      15.85      12.88       3.79          3.31          35.82  \n",
       "3      15.75      11.01       3.28          2.96          33.00  \n",
       "4      11.27       8.89      10.22          1.00          31.37  "
      ]
     },
     "execution_count": 6,
     "metadata": {},
     "output_type": "execute_result"
    }
   ],
   "source": [
    "ventas_videojuegos.head()"
   ]
  },
  {
   "cell_type": "code",
   "execution_count": 15,
   "id": "2547dd07",
   "metadata": {},
   "outputs": [
    {
     "data": {
      "text/plain": [
       "dtype('int64')"
      ]
     },
     "execution_count": 15,
     "metadata": {},
     "output_type": "execute_result"
    }
   ],
   "source": [
    "ventas_videojuegos['año'].dtype"
   ]
  },
  {
   "cell_type": "code",
   "execution_count": 16,
   "id": "68b6c41b",
   "metadata": {},
   "outputs": [],
   "source": [
    "#Is better to use this column as an 'Object'\n",
    "ventas_videojuegos['año'] = ventas_videojuegos['año'].astype('object')"
   ]
  },
  {
   "cell_type": "code",
   "execution_count": 17,
   "id": "56512e36",
   "metadata": {},
   "outputs": [
    {
     "data": {
      "text/plain": [
       "dtype('O')"
      ]
     },
     "execution_count": 17,
     "metadata": {},
     "output_type": "execute_result"
    }
   ],
   "source": [
    "ventas_videojuegos['año'].dtype"
   ]
  },
  {
   "cell_type": "code",
   "execution_count": 18,
   "id": "937d156b",
   "metadata": {},
   "outputs": [
    {
     "data": {
      "text/plain": [
       "dtype('float64')"
      ]
     },
     "execution_count": 18,
     "metadata": {},
     "output_type": "execute_result"
    }
   ],
   "source": [
    "ventas_videojuegos['ventas_jp'].dtype"
   ]
  },
  {
   "cell_type": "code",
   "execution_count": 19,
   "id": "e835c92d",
   "metadata": {},
   "outputs": [],
   "source": [
    "# Saving the Cleanned File\n",
    "ventas_videojuegos.to_csv('C:/Users/ASUS/Desktop/Hector/SQL_to_Azure/Files_to_Azure/ventas_videojuegos.csv')"
   ]
  },
  {
   "cell_type": "code",
   "execution_count": null,
   "id": "83dec63d",
   "metadata": {},
   "outputs": [],
   "source": []
  },
  {
   "cell_type": "code",
   "execution_count": null,
   "id": "d6797eaf",
   "metadata": {},
   "outputs": [],
   "source": [
    "##Connecting to DataBase from Azure"
   ]
  },
  {
   "cell_type": "code",
   "execution_count": 3,
   "id": "dfdfe0c1",
   "metadata": {},
   "outputs": [
    {
     "name": "stdout",
     "output_type": "stream",
     "text": [
      "Ingresa tu contraseña: ········\n"
     ]
    }
   ],
   "source": [
    "#Importing libraries\n",
    "import pypyodbc\n",
    "import getpass\n",
    "\n",
    "server = 'secoundserver.database.windows.net'\n",
    "database = 'third_database'\n",
    "username = 'hmrmbll'\n",
    "password = getpass.getpass(\"Ingresa tu contraseña: \")\n",
    "connection_string = f'DRIVER={{ODBC Driver 18 for SQL Server}};SERVER={server};DATABASE={database};UID={username};PWD={password}'"
   ]
  },
  {
   "cell_type": "code",
   "execution_count": 4,
   "id": "4c26a7ad",
   "metadata": {},
   "outputs": [],
   "source": [
    "#Creating a cursor\n",
    "connection = pypyodbc.connect(connection_string)\n",
    "cursor = connection.cursor()"
   ]
  },
  {
   "cell_type": "code",
   "execution_count": 6,
   "id": "111cd191",
   "metadata": {},
   "outputs": [],
   "source": [
    "#Making a consult\n",
    "sql = '''\n",
    "Select * from SalesLT.Customer\n",
    "'''"
   ]
  },
  {
   "cell_type": "code",
   "execution_count": 17,
   "id": "7f321058",
   "metadata": {},
   "outputs": [],
   "source": [
    "#Execute the consult\n",
    "cursor.execute(sql)\n",
    "data = cursor.fetchall()"
   ]
  },
  {
   "cell_type": "code",
   "execution_count": 18,
   "id": "ce29dabf",
   "metadata": {},
   "outputs": [],
   "source": [
    "#Converting it to a DataFrame\n",
    "columns = [column[0] for column in cursor.description]\n",
    "df = pd.DataFrame(data, columns=columns)"
   ]
  },
  {
   "cell_type": "code",
   "execution_count": 27,
   "id": "cb076965",
   "metadata": {},
   "outputs": [
    {
     "data": {
      "text/html": [
       "<div>\n",
       "<style scoped>\n",
       "    .dataframe tbody tr th:only-of-type {\n",
       "        vertical-align: middle;\n",
       "    }\n",
       "\n",
       "    .dataframe tbody tr th {\n",
       "        vertical-align: top;\n",
       "    }\n",
       "\n",
       "    .dataframe thead th {\n",
       "        text-align: right;\n",
       "    }\n",
       "</style>\n",
       "<table border=\"1\" class=\"dataframe\">\n",
       "  <thead>\n",
       "    <tr style=\"text-align: right;\">\n",
       "      <th></th>\n",
       "      <th>customerid</th>\n",
       "      <th>namestyle</th>\n",
       "      <th>title</th>\n",
       "      <th>firstname</th>\n",
       "      <th>middlename</th>\n",
       "      <th>lastname</th>\n",
       "      <th>suffix</th>\n",
       "      <th>companyname</th>\n",
       "      <th>salesperson</th>\n",
       "      <th>emailaddress</th>\n",
       "      <th>phone</th>\n",
       "      <th>passwordhash</th>\n",
       "      <th>passwordsalt</th>\n",
       "      <th>rowguid</th>\n",
       "      <th>modifieddate</th>\n",
       "    </tr>\n",
       "  </thead>\n",
       "  <tbody>\n",
       "    <tr>\n",
       "      <th>0</th>\n",
       "      <td>1</td>\n",
       "      <td>False</td>\n",
       "      <td>Mr.</td>\n",
       "      <td>Orlando</td>\n",
       "      <td>N.</td>\n",
       "      <td>Gee</td>\n",
       "      <td>None</td>\n",
       "      <td>A Bike Store</td>\n",
       "      <td>adventure-works\\pamela0</td>\n",
       "      <td>orlando0@adventure-works.com</td>\n",
       "      <td>245-555-0173</td>\n",
       "      <td>L/Rlwxzp4w7RWmEgXX+/A7cXaePEPcp+KwQhl2fJL7w=</td>\n",
       "      <td>1KjXYs4=</td>\n",
       "      <td>b'3F5AE95E-B87D-4AED-95B4-C3797AFCB74F'</td>\n",
       "      <td>2005-08-01</td>\n",
       "    </tr>\n",
       "    <tr>\n",
       "      <th>1</th>\n",
       "      <td>2</td>\n",
       "      <td>False</td>\n",
       "      <td>Mr.</td>\n",
       "      <td>Keith</td>\n",
       "      <td>None</td>\n",
       "      <td>Harris</td>\n",
       "      <td>None</td>\n",
       "      <td>Progressive Sports</td>\n",
       "      <td>adventure-works\\david8</td>\n",
       "      <td>keith0@adventure-works.com</td>\n",
       "      <td>170-555-0127</td>\n",
       "      <td>YPdtRdvqeAhj6wyxEsFdshBDNXxkCXn+CRgbvJItknw=</td>\n",
       "      <td>fs1ZGhY=</td>\n",
       "      <td>b'E552F657-A9AF-4A7D-A645-C429D6E02491'</td>\n",
       "      <td>2006-08-01</td>\n",
       "    </tr>\n",
       "    <tr>\n",
       "      <th>2</th>\n",
       "      <td>3</td>\n",
       "      <td>False</td>\n",
       "      <td>Ms.</td>\n",
       "      <td>Donna</td>\n",
       "      <td>F.</td>\n",
       "      <td>Carreras</td>\n",
       "      <td>None</td>\n",
       "      <td>Advanced Bike Components</td>\n",
       "      <td>adventure-works\\jillian0</td>\n",
       "      <td>donna0@adventure-works.com</td>\n",
       "      <td>279-555-0130</td>\n",
       "      <td>LNoK27abGQo48gGue3EBV/UrlYSToV0/s87dCRV7uJk=</td>\n",
       "      <td>YTNH5Rw=</td>\n",
       "      <td>b'130774B1-DB21-4EF3-98C8-C104BCD6ED6D'</td>\n",
       "      <td>2005-09-01</td>\n",
       "    </tr>\n",
       "    <tr>\n",
       "      <th>3</th>\n",
       "      <td>4</td>\n",
       "      <td>False</td>\n",
       "      <td>Ms.</td>\n",
       "      <td>Janet</td>\n",
       "      <td>M.</td>\n",
       "      <td>Gates</td>\n",
       "      <td>None</td>\n",
       "      <td>Modular Cycle Systems</td>\n",
       "      <td>adventure-works\\jillian0</td>\n",
       "      <td>janet1@adventure-works.com</td>\n",
       "      <td>710-555-0173</td>\n",
       "      <td>ElzTpSNbUW1Ut+L5cWlfR7MF6nBZia8WpmGaQPjLOJA=</td>\n",
       "      <td>nm7D5e4=</td>\n",
       "      <td>b'FF862851-1DAA-4044-BE7C-3E85583C054D'</td>\n",
       "      <td>2006-07-01</td>\n",
       "    </tr>\n",
       "    <tr>\n",
       "      <th>4</th>\n",
       "      <td>5</td>\n",
       "      <td>False</td>\n",
       "      <td>Mr.</td>\n",
       "      <td>Lucy</td>\n",
       "      <td>None</td>\n",
       "      <td>Harrington</td>\n",
       "      <td>None</td>\n",
       "      <td>Metropolitan Sports Supply</td>\n",
       "      <td>adventure-works\\shu0</td>\n",
       "      <td>lucy0@adventure-works.com</td>\n",
       "      <td>828-555-0186</td>\n",
       "      <td>KJqV15wsX3PG8TS5GSddp6LFFVdd3CoRftZM/tP0+R4=</td>\n",
       "      <td>cNFKU4w=</td>\n",
       "      <td>b'83905BDC-6F5E-4F71-B162-C98DA069F38A'</td>\n",
       "      <td>2006-09-01</td>\n",
       "    </tr>\n",
       "  </tbody>\n",
       "</table>\n",
       "</div>"
      ],
      "text/plain": [
       "   customerid  namestyle title firstname middlename    lastname suffix  \\\n",
       "0           1      False   Mr.   Orlando         N.         Gee   None   \n",
       "1           2      False   Mr.     Keith       None      Harris   None   \n",
       "2           3      False   Ms.     Donna         F.    Carreras   None   \n",
       "3           4      False   Ms.     Janet         M.       Gates   None   \n",
       "4           5      False   Mr.      Lucy       None  Harrington   None   \n",
       "\n",
       "                  companyname               salesperson  \\\n",
       "0                A Bike Store   adventure-works\\pamela0   \n",
       "1          Progressive Sports    adventure-works\\david8   \n",
       "2    Advanced Bike Components  adventure-works\\jillian0   \n",
       "3       Modular Cycle Systems  adventure-works\\jillian0   \n",
       "4  Metropolitan Sports Supply      adventure-works\\shu0   \n",
       "\n",
       "                   emailaddress         phone  \\\n",
       "0  orlando0@adventure-works.com  245-555-0173   \n",
       "1    keith0@adventure-works.com  170-555-0127   \n",
       "2    donna0@adventure-works.com  279-555-0130   \n",
       "3    janet1@adventure-works.com  710-555-0173   \n",
       "4     lucy0@adventure-works.com  828-555-0186   \n",
       "\n",
       "                                   passwordhash passwordsalt  \\\n",
       "0  L/Rlwxzp4w7RWmEgXX+/A7cXaePEPcp+KwQhl2fJL7w=     1KjXYs4=   \n",
       "1  YPdtRdvqeAhj6wyxEsFdshBDNXxkCXn+CRgbvJItknw=     fs1ZGhY=   \n",
       "2  LNoK27abGQo48gGue3EBV/UrlYSToV0/s87dCRV7uJk=     YTNH5Rw=   \n",
       "3  ElzTpSNbUW1Ut+L5cWlfR7MF6nBZia8WpmGaQPjLOJA=     nm7D5e4=   \n",
       "4  KJqV15wsX3PG8TS5GSddp6LFFVdd3CoRftZM/tP0+R4=     cNFKU4w=   \n",
       "\n",
       "                                   rowguid modifieddate  \n",
       "0  b'3F5AE95E-B87D-4AED-95B4-C3797AFCB74F'   2005-08-01  \n",
       "1  b'E552F657-A9AF-4A7D-A645-C429D6E02491'   2006-08-01  \n",
       "2  b'130774B1-DB21-4EF3-98C8-C104BCD6ED6D'   2005-09-01  \n",
       "3  b'FF862851-1DAA-4044-BE7C-3E85583C054D'   2006-07-01  \n",
       "4  b'83905BDC-6F5E-4F71-B162-C98DA069F38A'   2006-09-01  "
      ]
     },
     "execution_count": 27,
     "metadata": {},
     "output_type": "execute_result"
    }
   ],
   "source": [
    "#Visualizing the DataFrame\n",
    "df.head()"
   ]
  },
  {
   "cell_type": "code",
   "execution_count": null,
   "id": "201a6d54",
   "metadata": {},
   "outputs": [],
   "source": []
  },
  {
   "cell_type": "code",
   "execution_count": null,
   "id": "3225c271",
   "metadata": {},
   "outputs": [],
   "source": [
    "## DIRECTORY/FILES TO AZURE STORAGE"
   ]
  },
  {
   "cell_type": "code",
   "execution_count": 8,
   "id": "5d5741bd",
   "metadata": {},
   "outputs": [],
   "source": [
    "#Importing the necessary libraries\n",
    "import os\n",
    "from azure.storage.blob import BlobServiceClient\n",
    "from azure.core.exceptions import ResourceExistsError"
   ]
  },
  {
   "cell_type": "code",
   "execution_count": 9,
   "id": "be54533a",
   "metadata": {},
   "outputs": [
    {
     "data": {
      "text/plain": [
       "<azure.storage.blob._container_client.ContainerClient at 0x1f765fcd2d0>"
      ]
     },
     "execution_count": 9,
     "metadata": {},
     "output_type": "execute_result"
    }
   ],
   "source": [
    "#Creating the connection with the Storage\n",
    "storage_connection_string = 'DefaultEndpointsProtocol=https;AccountName=saving;AccountKey=OIBfKnx/nOgx56KDN81Z2tEjXLH3d4ADYR5pMLHkIZ74f/3b3F9gUHo1CCxh0QpW+SoEJ8qgj4vO+AStJO55wQ==;EndpointSuffix=core.windows.net'\n",
    "blob_service_client = BlobServiceClient.from_connection_string(storage_connection_string)\n",
    "container_id = 'save'\n",
    "blob_service_client.get_container_client(container_id)"
   ]
  },
  {
   "cell_type": "code",
   "execution_count": 10,
   "id": "3e396989",
   "metadata": {},
   "outputs": [],
   "source": [
    "#Creating the path\n",
    "overwrite = False\n",
    "target_directory = os.path.join(os.getcwd(), 'Files_to_Azure')"
   ]
  },
  {
   "cell_type": "code",
   "execution_count": 11,
   "id": "83efeadb",
   "metadata": {},
   "outputs": [
    {
     "data": {
      "text/plain": [
       "'C:\\\\Users\\\\ASUS\\\\Desktop\\\\Hector\\\\SQL_to_Azure\\\\Files_to_Azure'"
      ]
     },
     "execution_count": 11,
     "metadata": {},
     "output_type": "execute_result"
    }
   ],
   "source": [
    "#Checking the path\n",
    "target_directory"
   ]
  },
  {
   "cell_type": "code",
   "execution_count": 26,
   "id": "a5692872",
   "metadata": {},
   "outputs": [],
   "source": [
    "# Uploading Directory to Azure storage\n",
    "for folder in os.walk(target_directory):\n",
    "    for file in folder[-1]:\n",
    "        try:\n",
    "            blob_path = os.path.join(folder[0].replace(os.getcwd()+'\\\\', ''), file)\n",
    "            blob_obj = blob_service_client.get_blob_client(container=container_id, blob=blob_path)\n",
    "            \n",
    "            with open(os.path.join(folder[0], file), mode='rb') as file_data:\n",
    "                blob_obj.upload_blob(file_data, overwrite=overwrite)\n",
    "        except ResourceExistsError:\n",
    "            print('Blob\"{0}\"already exists'.format(blob_path))\n",
    "            print()\n",
    "            continue"
   ]
  }
 ],
 "metadata": {
  "kernelspec": {
   "display_name": "Python 3 (ipykernel)",
   "language": "python",
   "name": "python3"
  },
  "language_info": {
   "codemirror_mode": {
    "name": "ipython",
    "version": 3
   },
   "file_extension": ".py",
   "mimetype": "text/x-python",
   "name": "python",
   "nbconvert_exporter": "python",
   "pygments_lexer": "ipython3",
   "version": "3.10.11"
  }
 },
 "nbformat": 4,
 "nbformat_minor": 5
}
