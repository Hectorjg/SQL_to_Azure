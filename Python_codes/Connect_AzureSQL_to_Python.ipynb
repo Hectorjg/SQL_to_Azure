{
 "cells": [
  {
   "cell_type": "code",
   "execution_count": 1,
   "id": "247483a9",
   "metadata": {},
   "outputs": [],
   "source": [
    "##Connecting to DataBase from Azure"
   ]
  },
  {
   "cell_type": "code",
   "execution_count": 11,
   "id": "54ba361c",
   "metadata": {},
   "outputs": [
    {
     "name": "stdout",
     "output_type": "stream",
     "text": [
      "Ingresa tu contraseña: ········\n"
     ]
    }
   ],
   "source": [
    "#Importing libraries\n",
    "import pypyodbc\n",
    "import getpass\n",
    "import pandas as pd\n",
    "\n",
    "server = 'secoundserver.database.windows.net'\n",
    "database = 'projects'\n",
    "username = 'hmrmbll'\n",
    "password = getpass.getpass(\"Ingresa tu contraseña: \")\n",
    "connection_string = f'DRIVER={{ODBC Driver 18 for SQL Server}};SERVER={server};DATABASE={database};UID={username};PWD={password}'"
   ]
  },
  {
   "cell_type": "code",
   "execution_count": 6,
   "id": "73573554",
   "metadata": {},
   "outputs": [],
   "source": [
    "#Creating a cursor\n",
    "connection = pypyodbc.connect(connection_string)\n",
    "cursor = connection.cursor()"
   ]
  },
  {
   "cell_type": "code",
   "execution_count": 7,
   "id": "56b45e2c",
   "metadata": {},
   "outputs": [],
   "source": [
    "#Making a consult\n",
    "sql = '''\n",
    "Select * from clean_data\n",
    "'''"
   ]
  },
  {
   "cell_type": "code",
   "execution_count": 8,
   "id": "5c6fba3c",
   "metadata": {},
   "outputs": [],
   "source": [
    "#Execute the consult\n",
    "cursor.execute(sql)\n",
    "data = cursor.fetchall()"
   ]
  },
  {
   "cell_type": "code",
   "execution_count": 12,
   "id": "9b9e1e8b",
   "metadata": {},
   "outputs": [],
   "source": [
    "#Converting it to a DataFrame\n",
    "columns = [column[0] for column in cursor.description]\n",
    "df = pd.DataFrame(data, columns=columns)"
   ]
  },
  {
   "cell_type": "code",
   "execution_count": 13,
   "id": "a412d432",
   "metadata": {},
   "outputs": [
    {
     "data": {
      "text/html": [
       "<div>\n",
       "<style scoped>\n",
       "    .dataframe tbody tr th:only-of-type {\n",
       "        vertical-align: middle;\n",
       "    }\n",
       "\n",
       "    .dataframe tbody tr th {\n",
       "        vertical-align: top;\n",
       "    }\n",
       "\n",
       "    .dataframe thead th {\n",
       "        text-align: right;\n",
       "    }\n",
       "</style>\n",
       "<table border=\"1\" class=\"dataframe\">\n",
       "  <thead>\n",
       "    <tr style=\"text-align: right;\">\n",
       "      <th></th>\n",
       "      <th>offer_accepted</th>\n",
       "      <th>reward</th>\n",
       "      <th>mailer_type</th>\n",
       "      <th>income_level</th>\n",
       "      <th>#_bank_accounts_open</th>\n",
       "      <th>overdraft_protection</th>\n",
       "      <th>credit_rating</th>\n",
       "      <th>#_credit_cards_held</th>\n",
       "      <th>#_homes_owned</th>\n",
       "      <th>household_size</th>\n",
       "      <th>own_your_home</th>\n",
       "      <th>average_balance</th>\n",
       "    </tr>\n",
       "  </thead>\n",
       "  <tbody>\n",
       "    <tr>\n",
       "      <th>0</th>\n",
       "      <td>No</td>\n",
       "      <td>Air Miles</td>\n",
       "      <td>Letter</td>\n",
       "      <td>High</td>\n",
       "      <td>1</td>\n",
       "      <td>No</td>\n",
       "      <td>High</td>\n",
       "      <td>2</td>\n",
       "      <td>1</td>\n",
       "      <td>4</td>\n",
       "      <td>No</td>\n",
       "      <td>7.057683</td>\n",
       "    </tr>\n",
       "    <tr>\n",
       "      <th>1</th>\n",
       "      <td>No</td>\n",
       "      <td>Air Miles</td>\n",
       "      <td>Letter</td>\n",
       "      <td>Medium</td>\n",
       "      <td>more than 1</td>\n",
       "      <td>No</td>\n",
       "      <td>High</td>\n",
       "      <td>1</td>\n",
       "      <td>1</td>\n",
       "      <td>4</td>\n",
       "      <td>No</td>\n",
       "      <td>7.106606</td>\n",
       "    </tr>\n",
       "    <tr>\n",
       "      <th>2</th>\n",
       "      <td>No</td>\n",
       "      <td>Air Miles</td>\n",
       "      <td>Letter</td>\n",
       "      <td>Medium</td>\n",
       "      <td>1</td>\n",
       "      <td>No</td>\n",
       "      <td>Medium</td>\n",
       "      <td>2</td>\n",
       "      <td>1</td>\n",
       "      <td>6</td>\n",
       "      <td>Yes</td>\n",
       "      <td>7.100027</td>\n",
       "    </tr>\n",
       "    <tr>\n",
       "      <th>3</th>\n",
       "      <td>No</td>\n",
       "      <td>Air Miles</td>\n",
       "      <td>Letter</td>\n",
       "      <td>Medium</td>\n",
       "      <td>1</td>\n",
       "      <td>No</td>\n",
       "      <td>High</td>\n",
       "      <td>more than 2</td>\n",
       "      <td>1</td>\n",
       "      <td>4</td>\n",
       "      <td>No</td>\n",
       "      <td>7.017282</td>\n",
       "    </tr>\n",
       "    <tr>\n",
       "      <th>4</th>\n",
       "      <td>No</td>\n",
       "      <td>Air Miles</td>\n",
       "      <td>Postcard</td>\n",
       "      <td>Medium</td>\n",
       "      <td>1</td>\n",
       "      <td>No</td>\n",
       "      <td>Low</td>\n",
       "      <td>2</td>\n",
       "      <td>1</td>\n",
       "      <td>4</td>\n",
       "      <td>Yes</td>\n",
       "      <td>6.913737</td>\n",
       "    </tr>\n",
       "  </tbody>\n",
       "</table>\n",
       "</div>"
      ],
      "text/plain": [
       "  offer_accepted     reward mailer_type income_level #_bank_accounts_open  \\\n",
       "0             No  Air Miles      Letter         High                    1   \n",
       "1             No  Air Miles      Letter       Medium          more than 1   \n",
       "2             No  Air Miles      Letter       Medium                    1   \n",
       "3             No  Air Miles      Letter       Medium                    1   \n",
       "4             No  Air Miles    Postcard       Medium                    1   \n",
       "\n",
       "  overdraft_protection credit_rating #_credit_cards_held #_homes_owned  \\\n",
       "0                   No          High                   2             1   \n",
       "1                   No          High                   1             1   \n",
       "2                   No        Medium                   2             1   \n",
       "3                   No          High         more than 2             1   \n",
       "4                   No           Low                   2             1   \n",
       "\n",
       "  household_size own_your_home  average_balance  \n",
       "0              4            No         7.057683  \n",
       "1              4            No         7.106606  \n",
       "2              6           Yes         7.100027  \n",
       "3              4            No         7.017282  \n",
       "4              4           Yes         6.913737  "
      ]
     },
     "execution_count": 13,
     "metadata": {},
     "output_type": "execute_result"
    }
   ],
   "source": [
    "#Visualizing the DataFrame\n",
    "df.head()"
   ]
  },
  {
   "cell_type": "code",
   "execution_count": null,
   "id": "f9f4f696",
   "metadata": {},
   "outputs": [],
   "source": []
  }
 ],
 "metadata": {
  "kernelspec": {
   "display_name": "Python 3 (ipykernel)",
   "language": "python",
   "name": "python3"
  },
  "language_info": {
   "codemirror_mode": {
    "name": "ipython",
    "version": 3
   },
   "file_extension": ".py",
   "mimetype": "text/x-python",
   "name": "python",
   "nbconvert_exporter": "python",
   "pygments_lexer": "ipython3",
   "version": "3.10.11"
  }
 },
 "nbformat": 4,
 "nbformat_minor": 5
}
